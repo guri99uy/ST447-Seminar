{
  "cells": [
    {
      "cell_type": "markdown",
      "metadata": {
        "id": "b-Rcg9OURewm"
      },
      "source": [
        "# GAMES OR ADVERSARIAL SEARCH\n",
        "\n",
        "Adapted from [https://gist.github.com/rsheldiii/2993225](https://gist.github.com/rsheldiii/2993225)."
      ]
    },
    {
      "cell_type": "markdown",
      "metadata": {
        "id": "AREKhxH9Rm-C"
      },
      "source": [
        "### Note for ST449\n",
        "\n"
      ]
    },
    {
      "cell_type": "code",
      "execution_count": null,
      "metadata": {
        "collapsed": true,
        "id": "IjV8hSvNRewo"
      },
      "outputs": [],
      "source": [
        "# importing necessary libraries\n",
        "import itertools"
      ]
    },
    {
      "cell_type": "code",
      "execution_count": null,
      "metadata": {
        "id": "KdRfvbbt4q8e"
      },
      "outputs": [],
      "source": [
        "# definitions\n",
        "WHITE = \"white\"\n",
        "BLACK = \"black\""
      ]
    },
    {
      "cell_type": "code",
      "execution_count": null,
      "metadata": {
        "id": "GCyyE_Jw40sG"
      },
      "outputs": [],
      "source": [
        "# Class Game\n",
        "\n",
        "\"\"\"Class Game: contains the following members and methods:\n",
        "    - two arrays of pieces for each player\n",
        "    - 8x8 piece array with references to these pieces\n",
        "    - a parse function, which turns the input from the user into a list of two tuples denoting start and end points\n",
        "    - a checkmateExists function which checks if either players are in checkmate\n",
        "    - a checkExists function which checks if either players are in check (woah, I just got that nonsequitur)\n",
        "    - a main loop, which takes input, runs it through the parser, asks the piece if the move is valid, and moves the piece if it is. \n",
        "      If the move conflicts with another piece, that piece is removed. ischeck(mate) is run, and if there is a checkmate, the game prints a message as to who wins\n",
        "    \"\"\"\n",
        "\n",
        "class Game:\n",
        "    # I've decided since the number of pieces is capped but the type of pieces is not (pawn transformations),\n",
        "    # I've already coded much of the modularity to support just using a dictionary of pieces\n",
        "    def __init__(self):\n",
        "        self.playersturn = BLACK\n",
        "        self.message = \"Enter your move:\"\n",
        "        self.gameboard = {}\n",
        "        self.placePieces()\n",
        "        print(\"Chess program.\\n<ENTER> your move (<from> <to> - in algebraic notation separated by space (e.g. a2 a3))\\n\")\n",
        "        self.main()\n",
        "\n",
        "    def placePieces(self):\n",
        "\n",
        "        for i in range(0,8):\n",
        "            self.gameboard[(i,1)] = Pawn(WHITE,uniDict[WHITE][Pawn],1)\n",
        "            self.gameboard[(i,6)] = Pawn(BLACK,uniDict[BLACK][Pawn],-1)\n",
        "\n",
        "        placers = [Rook,Knight,Bishop,Queen,King,Bishop,Knight,Rook]\n",
        "\n",
        "        for i in range(0,8):\n",
        "            self.gameboard[(i,0)] = placers[i](WHITE,uniDict[WHITE][placers[i]])\n",
        "            self.gameboard[((7-i),7)] = placers[i](BLACK,uniDict[BLACK][placers[i]])\n",
        "        placers.reverse()\n",
        "\n",
        "    def main(self):\n",
        "\n",
        "        while True:\n",
        "            self.printBoard()\n",
        "            print(self.message)\n",
        "            self.message = \"\"\n",
        "            startpos,endpos = self.parseInput()\n",
        "            try:\n",
        "                target = self.gameboard[startpos]\n",
        "            except:\n",
        "                self.message = \"Could not find piece; index probably out of range.\"\n",
        "                target = None\n",
        "\n",
        "            if target:\n",
        "                print(\"Found \"+ str(target))\n",
        "                if target.Color != self.playersturn:\n",
        "                    self.message = \"You aren't allowed to move that piece this turn.\"\n",
        "                    continue\n",
        "                if target.isValid(startpos,endpos,target.Color,self.gameboard):\n",
        "                    self.message = \"That is a valid move!\"\n",
        "                    self.gameboard[endpos] = self.gameboard[startpos]\n",
        "                    del self.gameboard[startpos]\n",
        "                    self.isCheck()\n",
        "                    if self.playersturn == BLACK:\n",
        "                        self.playersturn = WHITE\n",
        "                    else : self.playersturn = BLACK\n",
        "                else :\n",
        "                    self.message = \"Invalid move!\" + str(target.availableMoves(startpos[0],startpos[1],self.gameboard))\n",
        "                    print(target.availableMoves(startpos[0],startpos[1],self.gameboard))\n",
        "            else : self.message = \"There is no piece in that space!\"\n",
        "\n",
        "    def isCheck(self):\n",
        "        # ascertain where the kings are, check all pieces of opposing color against those kings,\n",
        "        # then if either get hit, check if its checkmate\n",
        "        king = King\n",
        "        kingDict = {}\n",
        "        pieceDict = {BLACK : [], WHITE : []}\n",
        "        for position,piece in self.gameboard.items():\n",
        "            if type(piece) == King:\n",
        "                kingDict[piece.Color] = position\n",
        "            print(piece)\n",
        "            pieceDict[piece.Color].append((piece,position))\n",
        "        # white\n",
        "        if self.canSeeKing(kingDict[WHITE],pieceDict[BLACK]):\n",
        "            self.message = \"White player is in check!\"\n",
        "        if self.canSeeKing(kingDict[BLACK],pieceDict[WHITE]):\n",
        "            self.message = \"Black player is in check!\"\n",
        "\n",
        "    def canSeeKing(self,kingpos,piecelist):\n",
        "        # checks if any pieces in piece list (which is an array of (piece,position) tuples) can see the king in kingpos\n",
        "        for piece,position in piecelist:\n",
        "            if piece.isValid(position,kingpos,piece.Color,self.gameboard):\n",
        "                return True\n",
        "\n",
        "    def parseInput(self):\n",
        "        try:\n",
        "            a,b = input().split()\n",
        "            a = ((ord(a[0])-97), int(a[1])-1)\n",
        "            b = (ord(b[0])-97, int(b[1])-1)\n",
        "            print(a,b)\n",
        "            return (a,b)\n",
        "        except:\n",
        "            print(\"Error decoding input. Please try again!\")\n",
        "            return((-1,-1),(-1,-1))\n",
        "\n",
        "    \"\"\"def validateInput(self, *kargs):\n",
        "        for arg in kargs:\n",
        "            if type(arg[0]) is not type(1) or type(arg[1]) is not type(1):\n",
        "                return False\n",
        "        return True\"\"\"\n",
        "\n",
        "    def printBoard(self):\n",
        "        print(\"  1 | 2 | 3 | 4 | 5 | 6 | 7 | 8 |\")\n",
        "        for i in range(0,8):\n",
        "            print(\"-\"*32)\n",
        "            print(chr(i+97),end=\"|\")\n",
        "            for j in range(0,8):\n",
        "                item = self.gameboard.get((i,j),\" \")\n",
        "                print(str(item)+' |', end = \" \")\n",
        "            print()\n",
        "        print(\"-\"*32)\n"
      ]
    },
    {
      "cell_type": "code",
      "execution_count": null,
      "metadata": {
        "id": "O3C50vfq40ui"
      },
      "outputs": [],
      "source": [
        "# Class Piece\n",
        "class Piece:\n",
        "\n",
        "    def __init__(self,color,name):\n",
        "        self.name = name\n",
        "        self.position = None\n",
        "        self.Color = color\n",
        "    def isValid(self,startpos,endpos,Color,gameboard):\n",
        "        if endpos in self.availableMoves(startpos[0],startpos[1],gameboard, Color = Color):\n",
        "            return True\n",
        "        return False\n",
        "    def __repr__(self):\n",
        "        return self.name\n",
        "\n",
        "    def __str__(self):\n",
        "        return self.name\n",
        "\n",
        "    def availableMoves(self,x,y,gameboard):\n",
        "        print(\"ERROR: no movement for base class!\")\n",
        "\n",
        "    def AdNauseum(self,x,y,gameboard, Color, intervals):\n",
        "        \"\"\"repeats the given interval until another piece is run into.\n",
        "        if that piece is not of the same color, that square is added and\n",
        "         then the list is returned\"\"\"\n",
        "        answers = []\n",
        "        for xint,yint in intervals:\n",
        "            xtemp,ytemp = x+xint,y+yint\n",
        "            while self.isInBounds(xtemp,ytemp):\n",
        "                #print(str((xtemp,ytemp))+\"is in bounds\")\n",
        "\n",
        "                target = gameboard.get((xtemp,ytemp),None)\n",
        "                if target is None: answers.append((xtemp,ytemp))\n",
        "                elif target.Color != Color:\n",
        "                    answers.append((xtemp,ytemp))\n",
        "                    break\n",
        "                else:\n",
        "                    break\n",
        "\n",
        "                xtemp,ytemp = xtemp + xint,ytemp + yint\n",
        "        return answers\n",
        "\n",
        "    def isInBounds(self,x,y):\n",
        "        \"Checks if a position is on the board\"\n",
        "        if x >= 0 and x < 8 and y >= 0 and y < 8:\n",
        "            return True\n",
        "        return False\n",
        "\n",
        "    def noConflict(self,gameboard,initialColor,x,y):\n",
        "        \"Checks if a single position poses no conflict to the rules of chess\"\n",
        "        if self.isInBounds(x,y) and (((x,y) not in gameboard) or gameboard[(x,y)].Color != initialColor) : return True\n",
        "        return False\n"
      ]
    },
    {
      "cell_type": "code",
      "execution_count": null,
      "metadata": {
        "id": "gh8Ysh2140zD"
      },
      "outputs": [],
      "source": [
        "# definitions\n",
        "chessCardinals = [(1,0),(0,1),(-1,0),(0,-1)]\n",
        "chessDiagonals = [(1,1),(-1,1),(1,-1),(-1,-1)]"
      ]
    },
    {
      "cell_type": "code",
      "execution_count": null,
      "metadata": {
        "id": "2kmcEn7t401Y"
      },
      "outputs": [],
      "source": [
        "def knightList(x,y,int1,int2):\n",
        "    \"\"\"Specifically for the rook, permutes the values needed around a position for noConflict tests\"\"\"\n",
        "    return [(x+int1,y+int2),(x-int1,y+int2),(x+int1,y-int2),(x-int1,y-int2),(x+int2,y+int1),(x-int2,y+int1),(x+int2,y-int1),(x-int2,y-int1)]\n",
        "    \n",
        "def kingList(x,y):\n",
        "    return [(x+1,y),(x+1,y+1),(x+1,y-1),(x,y+1),(x,y-1),(x-1,y),(x-1,y+1),(x-1,y-1)]"
      ]
    },
    {
      "cell_type": "code",
      "execution_count": null,
      "metadata": {
        "id": "FOleDWM0403z"
      },
      "outputs": [],
      "source": [
        "# Subclass Knight\n",
        "class Knight(Piece):\n",
        "    def availableMoves(self,x,y,gameboard, Color = None):\n",
        "        if Color is None : Color = self.Color\n",
        "        return [(xx,yy) for xx,yy in knightList(x,y,2,1) if self.noConflict(gameboard, Color, xx, yy)]"
      ]
    },
    {
      "cell_type": "code",
      "execution_count": null,
      "metadata": {
        "id": "16cCHLK95nIQ"
      },
      "outputs": [],
      "source": [
        "# Subclass Rook\n",
        "class Rook(Piece):\n",
        "    def availableMoves(self,x,y,gameboard ,Color = None):\n",
        "        if Color is None : Color = self.Color\n",
        "        return self.AdNauseum(x, y, gameboard, Color, chessCardinals)"
      ]
    },
    {
      "cell_type": "code",
      "execution_count": null,
      "metadata": {
        "id": "QtY0Rq4t5nNS"
      },
      "outputs": [],
      "source": [
        "# Subclass Bishop\n",
        "class Bishop(Piece):\n",
        "    def availableMoves(self,x,y,gameboard, Color = None):\n",
        "        if Color is None : Color = self.Color\n",
        "        return self.AdNauseum(x, y, gameboard, Color, chessDiagonals)"
      ]
    },
    {
      "cell_type": "code",
      "execution_count": null,
      "metadata": {
        "id": "Viu235hj5nPZ"
      },
      "outputs": [],
      "source": [
        "# Subclass Queen\n",
        "class Queen(Piece):\n",
        "    def availableMoves(self,x,y,gameboard, Color = None):\n",
        "        if Color is None : Color = self.Color\n",
        "        return self.AdNauseum(x, y, gameboard, Color, chessCardinals+chessDiagonals)"
      ]
    },
    {
      "cell_type": "code",
      "execution_count": null,
      "metadata": {
        "id": "S4yDyDAp5nRx"
      },
      "outputs": [],
      "source": [
        "# Subclass King\n",
        "class King(Piece):\n",
        "    def availableMoves(self,x,y,gameboard, Color = None):\n",
        "        if Color is None : Color = self.Color\n",
        "        return [(xx,yy) for xx,yy in kingList(x,y) if self.noConflict(gameboard, Color, xx, yy)]"
      ]
    },
    {
      "cell_type": "code",
      "execution_count": null,
      "metadata": {
        "id": "YvgYGhnD8oUX"
      },
      "outputs": [],
      "source": [
        "# Class Pawn\n",
        "class Pawn(Piece):\n",
        "    def __init__(self,color,name,direction):\n",
        "        self.name = name\n",
        "        self.Color = color\n",
        "        #of course, the smallest piece is the hardest to code. direction should be either 1 or -1, should be -1 if the pawn is traveling \"backwards\"\n",
        "        self.direction = direction\n",
        "    def availableMoves(self,x,y,gameboard, Color = None):\n",
        "        if Color is None : Color = self.Color\n",
        "        answers = []\n",
        "        if (x+1,y+self.direction) in gameboard and self.noConflict(gameboard, Color, x+1, y+self.direction) : answers.append((x+1,y+self.direction))\n",
        "        if (x-1,y+self.direction) in gameboard and self.noConflict(gameboard, Color, x-1, y+self.direction) : answers.append((x-1,y+self.direction))\n",
        "        if (x,y+self.direction) not in gameboard and Color == self.Color : answers.append((x,y+self.direction))# the condition after the and is to make sure the non-capturing movement (the only fucking one in the game) is not used in the calculation of checkmate\n",
        "        return answers"
      ]
    },
    {
      "cell_type": "code",
      "execution_count": null,
      "metadata": {
        "id": "ILDvEP8C8oW2"
      },
      "outputs": [],
      "source": [
        "uniDict = {WHITE : {Pawn : \"♙\", Rook : \"♖\", Knight : \"♘\", Bishop : \"♗\", King : \"♔\", Queen : \"♕\" }, BLACK : {Pawn : \"♟\", Rook : \"♜\", Knight : \"♞\", Bishop : \"♝\", King : \"♚\", Queen : \"♛\" }}"
      ]
    },
    {
      "cell_type": "code",
      "execution_count": null,
      "metadata": {
        "colab": {
          "background_save": true,
          "base_uri": "https://localhost:8080/"
        },
        "id": "oiXbFKfkGU3j",
        "outputId": "0ea9f92e-6cf2-41b5-814c-71605dcf21e8"
      },
      "outputs": [
        {
          "output_type": "stream",
          "name": "stdout",
          "text": [
            "Error decoding input. Please try again!\n",
            "  1 | 2 | 3 | 4 | 5 | 6 | 7 | 8 |\n",
            "--------------------------------\n",
            "a|♖ | ♙ |   |   |   | ♟ |   | ♜ | \n",
            "--------------------------------\n",
            "b|♘ | ♙ |   |   |   |   | ♟ | ♞ | \n",
            "--------------------------------\n",
            "c|♗ | ♙ |   |   |   |   | ♟ | ♝ | \n",
            "--------------------------------\n",
            "d|♕ | ♙ |   |   |   |   | ♟ | ♚ | \n",
            "--------------------------------\n",
            "e|♔ | ♙ |   |   |   |   | ♟ | ♛ | \n",
            "--------------------------------\n",
            "f|♗ | ♙ |   |   |   |   | ♟ | ♝ | \n",
            "--------------------------------\n",
            "g|♘ | ♙ |   |   |   |   | ♟ | ♞ | \n",
            "--------------------------------\n",
            "h|♖ | ♙ |   |   |   |   | ♟ | ♜ | \n",
            "--------------------------------\n",
            "There is no piece in that space!\n"
          ]
        }
      ],
      "source": [
        "Game()"
      ]
    }
  ],
  "metadata": {
    "colab": {
      "collapsed_sections": [],
      "provenance": []
    },
    "kernelspec": {
      "display_name": "Python 3",
      "language": "python",
      "name": "python3"
    },
    "language_info": {
      "codemirror_mode": {
        "name": "ipython",
        "version": 3
      },
      "file_extension": ".py",
      "mimetype": "text/x-python",
      "name": "python",
      "nbconvert_exporter": "python",
      "pygments_lexer": "ipython3",
      "version": "3.8.2-final"
    }
  },
  "nbformat": 4,
  "nbformat_minor": 0
}